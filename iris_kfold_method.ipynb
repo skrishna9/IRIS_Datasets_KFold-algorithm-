{
 "cells": [
  {
   "cell_type": "code",
   "execution_count": 41,
   "id": "40925d38",
   "metadata": {},
   "outputs": [],
   "source": [
    "from sklearn.linear_model import LogisticRegression \n",
    "from sklearn.svm import SVC\n",
    "from sklearn.ensemble import RandomForestClassifier\n",
    "from sklearn.tree import DecisionTreeClassifier"
   ]
  },
  {
   "cell_type": "code",
   "execution_count": 46,
   "id": "81b56ee3",
   "metadata": {},
   "outputs": [],
   "source": [
    "from sklearn.datasets import load_iris\n",
    "iris =load_iris()"
   ]
  },
  {
   "cell_type": "code",
   "execution_count": 47,
   "id": "0c54a954",
   "metadata": {},
   "outputs": [],
   "source": [
    "from sklearn.model_selection import cross_val_score"
   ]
  },
  {
   "cell_type": "markdown",
   "id": "99246626",
   "metadata": {},
   "source": [
    "# Logistic Regression score "
   ]
  },
  {
   "cell_type": "code",
   "execution_count": 51,
   "id": "549608c9",
   "metadata": {},
   "outputs": [
    {
     "name": "stderr",
     "output_type": "stream",
     "text": [
      "/home/krishna/anaconda3/lib/python3.9/site-packages/sklearn/linear_model/_logistic.py:763: ConvergenceWarning: lbfgs failed to converge (status=1):\n",
      "STOP: TOTAL NO. of ITERATIONS REACHED LIMIT.\n",
      "\n",
      "Increase the number of iterations (max_iter) or scale the data as shown in:\n",
      "    https://scikit-learn.org/stable/modules/preprocessing.html\n",
      "Please also refer to the documentation for alternative solver options:\n",
      "    https://scikit-learn.org/stable/modules/linear_model.html#logistic-regression\n",
      "  n_iter_i = _check_optimize_result(\n"
     ]
    },
    {
     "data": {
      "text/plain": [
       "array([0.96666667, 1.        , 0.93333333, 0.96666667, 1.        ])"
      ]
     },
     "execution_count": 51,
     "metadata": {},
     "output_type": "execute_result"
    }
   ],
   "source": [
    "score_lg=cross_val_score(LogisticRegression(),iris.data,iris.target)\n",
    "score_lg"
   ]
  },
  {
   "cell_type": "code",
   "execution_count": 52,
   "id": "67bab424",
   "metadata": {},
   "outputs": [
    {
     "data": {
      "text/plain": [
       "0.9733333333333334"
      ]
     },
     "execution_count": 52,
     "metadata": {},
     "output_type": "execute_result"
    }
   ],
   "source": [
    "np.average(score_lg)"
   ]
  },
  {
   "cell_type": "markdown",
   "id": "b340cc15",
   "metadata": {},
   "source": [
    "# for Decision Tree "
   ]
  },
  {
   "cell_type": "code",
   "execution_count": 53,
   "id": "af0900e5",
   "metadata": {},
   "outputs": [
    {
     "data": {
      "text/plain": [
       "array([0.96666667, 0.96666667, 0.9       , 0.96666667, 1.        ])"
      ]
     },
     "execution_count": 53,
     "metadata": {},
     "output_type": "execute_result"
    }
   ],
   "source": [
    "score_D=cross_val_score(DecisionTreeClassifier(),iris.data,iris.target)\n",
    "score_D"
   ]
  },
  {
   "cell_type": "code",
   "execution_count": 54,
   "id": "5f77fa20",
   "metadata": {},
   "outputs": [
    {
     "data": {
      "text/plain": [
       "0.9600000000000002"
      ]
     },
     "execution_count": 54,
     "metadata": {},
     "output_type": "execute_result"
    }
   ],
   "source": [
    "np.average(score_D)"
   ]
  },
  {
   "cell_type": "markdown",
   "id": "55ddc54b",
   "metadata": {},
   "source": [
    "# for svm score "
   ]
  },
  {
   "cell_type": "code",
   "execution_count": 56,
   "id": "17cdaa28",
   "metadata": {},
   "outputs": [],
   "source": [
    "score_sm= cross_val_score(SVC(),iris.data,iris.target)"
   ]
  },
  {
   "cell_type": "code",
   "execution_count": 57,
   "id": "9d75faf3",
   "metadata": {},
   "outputs": [
    {
     "data": {
      "text/plain": [
       "array([0.96666667, 0.96666667, 0.96666667, 0.93333333, 1.        ])"
      ]
     },
     "execution_count": 57,
     "metadata": {},
     "output_type": "execute_result"
    }
   ],
   "source": [
    "score_sm"
   ]
  },
  {
   "cell_type": "code",
   "execution_count": 58,
   "id": "fa31a486",
   "metadata": {},
   "outputs": [
    {
     "data": {
      "text/plain": [
       "0.9666666666666666"
      ]
     },
     "execution_count": 58,
     "metadata": {},
     "output_type": "execute_result"
    }
   ],
   "source": [
    "np.average(score_sm)"
   ]
  },
  {
   "cell_type": "markdown",
   "id": "86e515f7",
   "metadata": {},
   "source": [
    "# for Random Forest classifier "
   ]
  },
  {
   "cell_type": "code",
   "execution_count": 59,
   "id": "662a9c21",
   "metadata": {},
   "outputs": [
    {
     "data": {
      "text/plain": [
       "array([0.96666667, 0.96666667, 0.93333333, 0.93333333, 1.        ])"
      ]
     },
     "execution_count": 59,
     "metadata": {},
     "output_type": "execute_result"
    }
   ],
   "source": [
    "score_RD=cross_val_score(RandomForestClassifier(),iris.data,iris.target)\n",
    "score_RD"
   ]
  },
  {
   "cell_type": "code",
   "execution_count": 61,
   "id": "b672616d",
   "metadata": {},
   "outputs": [
    {
     "data": {
      "text/plain": [
       "0.96"
      ]
     },
     "execution_count": 61,
     "metadata": {},
     "output_type": "execute_result"
    }
   ],
   "source": [
    "np.average(score_RD)"
   ]
  },
  {
   "cell_type": "raw",
   "id": "a60d12fa",
   "metadata": {},
   "source": [
    "as we can see all the algorithm  the average best score is for Logistic Regression "
   ]
  },
  {
   "cell_type": "code",
   "execution_count": null,
   "id": "7f893225",
   "metadata": {},
   "outputs": [],
   "source": []
  }
 ],
 "metadata": {
  "kernelspec": {
   "display_name": "Python 3 (ipykernel)",
   "language": "python",
   "name": "python3"
  },
  "language_info": {
   "codemirror_mode": {
    "name": "ipython",
    "version": 3
   },
   "file_extension": ".py",
   "mimetype": "text/x-python",
   "name": "python",
   "nbconvert_exporter": "python",
   "pygments_lexer": "ipython3",
   "version": "3.9.7"
  }
 },
 "nbformat": 4,
 "nbformat_minor": 5
}
